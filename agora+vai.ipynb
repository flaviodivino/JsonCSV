{
 "cells": [
  {
   "cell_type": "code",
   "execution_count": 1,
   "metadata": {
    "collapsed": true
   },
   "outputs": [],
   "source": [
    "import json, csv\n",
    "import datetime, dateutil.parser\n",
    "import pandas as pd\n",
    "from pandas import DataFrame\n",
    "import sys"
   ]
  },
  {
   "cell_type": "code",
   "execution_count": 2,
   "metadata": {
    "collapsed": true
   },
   "outputs": [],
   "source": [
    "#Abrindo o arquivo json para leitura\n",
    "arquivo = open(\"C:\\\\DatasetRestaurante\\\\sample.txt\",\"r\").read()"
   ]
  },
  {
   "cell_type": "code",
   "execution_count": 3,
   "metadata": {},
   "outputs": [],
   "source": [
    "#Carregando o arquivo json\n",
    "dados = json.loads(arquivo)"
   ]
  },
  {
   "cell_type": "code",
   "execution_count": 4,
   "metadata": {},
   "outputs": [],
   "source": [
    "#Tentando transformar o json em dataframe\n",
    "teste = pd.read_json('C:\\DatasetRestaurante\\sample.txt',orient='splita').head(2)\n",
    "\n",
    "#Observe que este json contem array de arrays"
   ]
  },
  {
   "cell_type": "code",
   "execution_count": 5,
   "metadata": {},
   "outputs": [],
   "source": [
    "#Pelo motivo de não conseguir converter o arquivo json em um dataframe então\n",
    "# resolvi fazer laço for para pegar os dados os array e transformar em csv\n",
    "\n",
    "#Esses comando fazem com que o resultado do print seja salvo em um arquivo de texto\n",
    "orig_stdout = sys.stdout\n",
    "f = open('C:\\\\DatasetRestaurante\\\\out.csv', 'w')\n",
    "sys.stdout = f\n",
    "\n",
    "a = 0\n",
    "b = 0\n",
    "\n",
    "#Criando o cabeçalho do arquivo\n",
    "#O cabeçalho foi elaborando analizando visualmente o aqruivo json no notepad ++\n",
    "print('complemento.valor'\n",
    "      ,\";\", 'dets.nItem'\n",
    "      ,\";\", 'dets.prod.indTot'\n",
    "      ,\";\", 'dets.prod.qCom'\n",
    "      ,\";\", 'dets.prod.uCom'\n",
    "      ,\";\", 'dets.prod.vProd'\n",
    "      ,\";\", 'dets.prod.vUnCom'\n",
    "      ,';', 'dets.prod.xProd'\n",
    "      ,';', 'emit.cnpj'\n",
    "      ,';', 'emit.enderEmit.fone'\n",
    "      ,';', 'emit.enderEmit.uf'\n",
    "      ,';', 'emit.enderEmit.xBairro'\n",
    "      ,';', 'emit.enderEmit.xLgr'\n",
    "      ,';', 'emit.enderEmit.xMun'\n",
    "      ,';', 'emit.xFant'\n",
    "      ,';', 'ide.dhEmi.$date'\n",
    "      ,';', 'ide.natOp'\n",
    "      ,';', 'infAdic.infCpl'\n",
    "      ,';', 'total.icmsTot.vDesc'\n",
    "      ,';', 'total.icmsTot.vFrete'\n",
    "      ,';', 'total.icmsTot.vOutro'\n",
    "      ,';', 'total.icmsTot.vProd'\n",
    "      ,';', 'total.icmsTot.vSeg'\n",
    "      ,';', 'total.icmsTot.vTotTrib'\n",
    "      ,';', 'total.icmsTot.vbc'\n",
    "      ,';', 'total.icmsTot.vbcst'\n",
    "      ,';', 'total.icmsTot.vcofins'\n",
    "      ,';', 'total.icmsTot.vicms'\n",
    "      ,';', 'total.icmsTot.vicmsDeson'\n",
    "      ,';', 'total.icmsTot.vii'\n",
    "      ,';', 'total.icmsTot.vipi'\n",
    "      ,';', 'total.icmsTot.vnf'\n",
    "      ,';', 'total.icmsTot.vpis'\n",
    "      ,';', 'total.icmsTot.vst'\n",
    "      ,';', 'versaoDocumento'\n",
    "    ) \n",
    "#\n",
    "\n",
    "for i in dados:\n",
    "    valor = i['complemento']['valorTotal']\n",
    "\n",
    "    detalhe = dados[a]['dets']\n",
    "    b = a\n",
    "    a = a + 1 \n",
    "    \n",
    "    #Coloquei uma condição porque nos diversos testes que realizei descobri que o campo versaoDocumento \n",
    "    #está gravado de duas formas\n",
    "    try:\n",
    "        if len(dados[b]['versaoDocumento']) == 1:\n",
    "            versao = (dados[b]['versaoDocumento']['$numberLong'])\n",
    "        else:\n",
    "            versao = dados[b]['versaoDocumento']\n",
    "    except Exception as the_exception:\n",
    "        versao = dados[b]['versaoDocumento']\n",
    "    \n",
    "    #Laço que gera as linhas do CSV\n",
    "    for f in range(0,len(dados[b]['dets'])):\n",
    "        d = dateutil.parser.parse(dados[b]['ide']['dhEmi']['$date'])\n",
    "        \n",
    "        print(valor,\n",
    "              \";\", dados[b]['dets'][f]['nItem']\n",
    "              ,\";\", dados[b]['dets'][f]['prod']['indTot']\n",
    "              ,\";\", dados[b]['dets'][f]['prod']['qCom']\n",
    "              ,\";\", dados[b]['dets'][f]['prod']['uCom']\n",
    "              ,\";\", dados[b]['dets'][f]['prod']['vProd']\n",
    "              ,\";\", dados[b]['dets'][f]['prod']['vUnCom']\n",
    "              ,';', dados[b]['dets'][f]['prod']['xProd']\n",
    "              ,';', dados[b]['emit']['cnpj']\n",
    "              ,';', dados[b]['emit']['enderEmit']['fone']\n",
    "              ,';', dados[b]['emit']['enderEmit']['uf']\n",
    "              ,';', dados[b]['emit']['enderEmit']['xBairro']\n",
    "              ,';', dados[b]['emit']['enderEmit']['xLgr']\n",
    "              ,';', dados[b]['emit']['enderEmit']['xMun']\n",
    "              ,';', dados[b]['emit']['xFant']\n",
    "              #Aproveitei e já coloquei a data formatada no formato yyyy-mm-dd HH:MM:SS\n",
    "              #,';', dados[b]['ide']['dhEmi']['$date']\n",
    "              ,';', d.strftime(\"%Y-%m-%d %H:%M:%S\")\n",
    "              ,';', dados[b]['ide']['natOp']\n",
    "              ,';', dados[b]['infAdic']['infCpl']\n",
    "              ,';', dados[b]['total']['icmsTot']['vDesc']\n",
    "              ,';', dados[b]['total']['icmsTot']['vFrete']\n",
    "              ,';', dados[b]['total']['icmsTot']['vOutro']\n",
    "              ,';', dados[b]['total']['icmsTot']['vProd']\n",
    "              ,';', dados[b]['total']['icmsTot']['vSeg']\n",
    "              ,';', dados[b]['total']['icmsTot']['vTotTrib']\n",
    "              ,';', dados[b]['total']['icmsTot']['vbc']\n",
    "              ,';', dados[b]['total']['icmsTot']['vbcst']\n",
    "              ,';', dados[b]['total']['icmsTot']['vcofins']\n",
    "              ,';', dados[b]['total']['icmsTot']['vicms']\n",
    "              ,';', dados[b]['total']['icmsTot']['vicmsDeson']\n",
    "              ,';', dados[b]['total']['icmsTot']['vii']\n",
    "              ,';', dados[b]['total']['icmsTot']['vipi']\n",
    "              ,';', dados[b]['total']['icmsTot']['vnf']\n",
    "              ,';', dados[b]['total']['icmsTot']['vpis']\n",
    "              ,';', dados[b]['total']['icmsTot']['vst']\n",
    "              ,';', versao\n",
    "             ) \n",
    "        \n",
    "sys.stdout = orig_stdout"
   ]
  },
  {
   "cell_type": "code",
   "execution_count": null,
   "metadata": {
    "collapsed": true
   },
   "outputs": [],
   "source": []
  },
  {
   "cell_type": "code",
   "execution_count": null,
   "metadata": {
    "collapsed": true
   },
   "outputs": [],
   "source": []
  },
  {
   "cell_type": "code",
   "execution_count": null,
   "metadata": {
    "collapsed": true
   },
   "outputs": [],
   "source": []
  }
 ],
 "metadata": {
  "kernelspec": {
   "display_name": "Python 3",
   "language": "python",
   "name": "python3"
  },
  "language_info": {
   "codemirror_mode": {
    "name": "ipython",
    "version": 3
   },
   "file_extension": ".py",
   "mimetype": "text/x-python",
   "name": "python",
   "nbconvert_exporter": "python",
   "pygments_lexer": "ipython3",
   "version": "3.6.3"
  }
 },
 "nbformat": 4,
 "nbformat_minor": 2
}
